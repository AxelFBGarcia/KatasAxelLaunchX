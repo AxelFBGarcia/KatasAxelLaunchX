{
 "cells": [
  {
   "cell_type": "markdown",
   "metadata": {},
   "source": [
    "# Creación de diccionarios de Python"
   ]
  },
  {
   "cell_type": "code",
   "execution_count": 45,
   "metadata": {},
   "outputs": [
    {
     "name": "stdout",
     "output_type": "stream",
     "text": [
      "Mars Número de lunas: 2\n",
      "Mars Número de circunferencia polar:  6752 \n",
      "Número de la circunferencia equatorial: 6792\n"
     ]
    }
   ],
   "source": [
    "planet = {\n",
    "    'name': 'Mars',\n",
    "    'moons': 2\n",
    "}\n",
    "\n",
    "print(f\"{planet['name']}\" \" Número de lunas: \" f\"{planet['moons']}\")\n",
    "\n",
    "\n",
    "planet['circunferencia (km)'] = {\n",
    "    'polar': 6752,\n",
    "    'equatorial': 6792\n",
    "}\n",
    "\n",
    "print(f\"\"\"{planet['name']} Número de circunferencia polar:  {planet['circunferencia (km)']['polar']} \n",
    "Número de la circunferencia equatorial: {planet['circunferencia (km)']['equatorial']}\"\"\") "
   ]
  },
  {
   "cell_type": "markdown",
   "metadata": {},
   "source": [
    "# Programación dinámica con diccionarios"
   ]
  },
  {
   "cell_type": "code",
   "execution_count": 52,
   "metadata": {},
   "outputs": [
    {
     "name": "stdout",
     "output_type": "stream",
     "text": [
      "Hay un total de: 214\n",
      "Promedio de lunas en el sistema solar: 17.833333333333332\n"
     ]
    }
   ],
   "source": [
    "total_planet_moons = 0\n",
    "\n",
    "planet_moons = {\n",
    "    'mercury': 0,\n",
    "    'venus': 0,\n",
    "    'earth': 1,\n",
    "    'mars': 2,\n",
    "    'jupiter': 79,\n",
    "    'saturn': 82,\n",
    "    'uranus': 27,\n",
    "    'neptune': 14,\n",
    "    'pluto': 5,\n",
    "    'haumea': 2,\n",
    "    'makemake': 1,\n",
    "    'eris': 1\n",
    "}\n",
    "\n",
    "planets = len(planet_moons.keys())\n",
    "\n",
    "for value in planet_moons.values():\n",
    "    total_planet_moons = total_planet_moons + value\n",
    "\n",
    "promedio = total_planet_moons/planets\n",
    "\n",
    "print(f'Hay un total de: {total_planet_moons}')\n",
    "print(\"Promedio de lunas en el sistema solar: %s\" %promedio)\n",
    "\n"
   ]
  }
 ],
 "metadata": {
  "interpreter": {
   "hash": "29d8c59fee9a0309007acc0b12fd78547b1a17caf93b3591f55ca1536f38417f"
  },
  "kernelspec": {
   "display_name": "Python 3.10.2 64-bit",
   "language": "python",
   "name": "python3"
  },
  "language_info": {
   "codemirror_mode": {
    "name": "ipython",
    "version": 3
   },
   "file_extension": ".py",
   "mimetype": "text/x-python",
   "name": "python",
   "nbconvert_exporter": "python",
   "pygments_lexer": "ipython3",
   "version": "3.10.2"
  },
  "orig_nbformat": 4
 },
 "nbformat": 4,
 "nbformat_minor": 2
}
