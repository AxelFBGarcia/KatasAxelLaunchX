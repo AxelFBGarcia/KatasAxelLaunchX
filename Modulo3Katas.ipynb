{
 "cells": [
  {
   "cell_type": "code",
   "execution_count": 1,
   "metadata": {},
   "outputs": [
    {
     "name": "stdout",
     "output_type": "stream",
     "text": [
      "¡Advertencia asteroide acercandose a gran velocidad!\n"
     ]
    }
   ],
   "source": [
    "astVel = 49\n",
    "topVel = 25\n",
    "\n",
    "if astVel > topVel:\n",
    "    print(\"¡Advertencia asteroide acercandose a gran velocidad!\")\n",
    "else:\n",
    "    print(\"Asteroide a buena velocidad\")"
   ]
  },
  {
   "cell_type": "code",
   "execution_count": 23,
   "metadata": {},
   "outputs": [
    {
     "name": "stdout",
     "output_type": "stream",
     "text": [
      "Asteroide a baja velocidad\n"
     ]
    }
   ],
   "source": [
    "astVel = 19\n",
    "topVel = 20\n",
    "\n",
    "if astVel > topVel:\n",
    "    print(\"Asteroide a la vista en el cielo\")\n",
    "elif astVel < topVel: \n",
    "    print(\"Asteroide a baja velocidad\")\n",
    "else:\n",
    "    print(\"Asteroide a la vista en el cielo\")"
   ]
  },
  {
   "cell_type": "code",
   "execution_count": 47,
   "metadata": {},
   "outputs": [
    {
     "name": "stdout",
     "output_type": "stream",
     "text": [
      "Ninguna información imoportante por el momento\n"
     ]
    }
   ],
   "source": [
    "topVel = 19\n",
    "astTam = 0\n",
    "\n",
    "if topVel >= 25 and astTam <= 1000:\n",
    "    print(\"Peligro inminente\")\n",
    "elif topVel >= 20 and topVel < 25:\n",
    "    print(\"Rayo de luz en el cielo\")\n",
    "elif topVel >= 25 and astTam > 1000:\n",
    "    print(\"Extinción masiva\")\n",
    "else:\n",
    "    print(\"Ninguna información imoportante por el momento\")"
   ]
  }
 ],
 "metadata": {
  "interpreter": {
   "hash": "29d8c59fee9a0309007acc0b12fd78547b1a17caf93b3591f55ca1536f38417f"
  },
  "kernelspec": {
   "display_name": "Python 3.10.2 64-bit",
   "language": "python",
   "name": "python3"
  },
  "language_info": {
   "codemirror_mode": {
    "name": "ipython",
    "version": 3
   },
   "file_extension": ".py",
   "mimetype": "text/x-python",
   "name": "python",
   "nbconvert_exporter": "python",
   "pygments_lexer": "ipython3",
   "version": "3.10.2"
  },
  "orig_nbformat": 4
 },
 "nbformat": 4,
 "nbformat_minor": 2
}
