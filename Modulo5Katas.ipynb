{
 "cells": [
  {
   "cell_type": "markdown",
   "metadata": {},
   "source": [
    "# Operadores aritméticos"
   ]
  },
  {
   "cell_type": "code",
   "execution_count": 12,
   "metadata": {},
   "outputs": [
    {
     "name": "stdout",
     "output_type": "stream",
     "text": [
      "628949330\n",
      "390577533\n"
     ]
    }
   ],
   "source": [
    "Tierra = 149597870\n",
    "Jupiter = 778547200\n",
    "\n",
    "Distancia = Jupiter- Tierra\n",
    "distkm = int(Distancia * 0.621)\n",
    "print(Distancia)\n",
    "print(distkm)"
   ]
  },
  {
   "cell_type": "markdown",
   "metadata": {},
   "source": [
    "# Conversión de cadenas en números y uso de valores absolutos"
   ]
  },
  {
   "cell_type": "code",
   "execution_count": 10,
   "metadata": {},
   "outputs": [
    {
     "name": "stdout",
     "output_type": "stream",
     "text": [
      "-740\n",
      "459.54\n"
     ]
    }
   ],
   "source": [
    "distPlanet1 = input(\"Distancia del planeta 1\")\n",
    "distPlanet2 = input(\"Distancia del planeta 2\")\n",
    "\n",
    "distPlanet1 = int(distPlanet1)\n",
    "distPlanet2 = int(distPlanet2)\n",
    "\n",
    "dist = distPlanet1 - distPlanet2\n",
    "millas = dist * 0.621\n",
    "\n",
    "print(dist)\n",
    "print(abs(millas))"
   ]
  }
 ],
 "metadata": {
  "interpreter": {
   "hash": "29d8c59fee9a0309007acc0b12fd78547b1a17caf93b3591f55ca1536f38417f"
  },
  "kernelspec": {
   "display_name": "Python 3.10.2 64-bit",
   "language": "python",
   "name": "python3"
  },
  "language_info": {
   "codemirror_mode": {
    "name": "ipython",
    "version": 3
   },
   "file_extension": ".py",
   "mimetype": "text/x-python",
   "name": "python",
   "nbconvert_exporter": "python",
   "pygments_lexer": "ipython3",
   "version": "3.10.2"
  },
  "orig_nbformat": 4
 },
 "nbformat": 4,
 "nbformat_minor": 2
}
