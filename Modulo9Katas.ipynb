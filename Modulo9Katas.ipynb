{
 "cells": [
  {
   "cell_type": "markdown",
   "metadata": {},
   "source": [
    "# Uso de funcioes en Python"
   ]
  },
  {
   "cell_type": "code",
   "execution_count": 31,
   "metadata": {},
   "outputs": [
    {
     "name": "stdout",
     "output_type": "stream",
     "text": [
      "Combustible:\n",
      "    promedio:41.666666666666664%\n",
      "    tanque1: 45%\n",
      "    tanque2: 50%\n",
      "    tanque3: 30%\n"
     ]
    }
   ],
   "source": [
    "def leer_tanques(tanque1, tanque2, tanque3):\n",
    "    return  f\"\"\"Combustible:\n",
    "    promedio:{prom2([tanque1, tanque2, tanque3])}%\n",
    "    tanque1: {tanque1}%\n",
    "    tanque2: {tanque2}%\n",
    "    tanque3: {tanque3}%\"\"\"\n",
    "\n",
    "print(leer_tanques(45, 50, 30))\n",
    "\n",
    "def prom2(valores):\n",
    "    total = sum(valores)\n",
    "    num_de_val = len(valores)\n",
    "    return total/num_de_val\n",
    "\n"
   ]
  },
  {
   "cell_type": "code",
   "execution_count": 27,
   "metadata": {},
   "outputs": [
    {
     "data": {
      "text/plain": [
       "46.666666666666664"
      ]
     },
     "execution_count": 27,
     "metadata": {},
     "output_type": "execute_result"
    }
   ],
   "source": [
    "def prom2(valores):\n",
    "    total = sum(valores)\n",
    "    num_de_val = len(valores)\n",
    "    return total/num_de_val\n",
    "\n",
    "prom2([60, 30, 50])"
   ]
  },
  {
   "cell_type": "markdown",
   "metadata": {},
   "source": [
    "# Trabajo con argumentos de palabra clave"
   ]
  },
  {
   "cell_type": "code",
   "execution_count": 33,
   "metadata": {},
   "outputs": [
    {
     "name": "stdout",
     "output_type": "stream",
     "text": [
      " Destino:\n",
      "    Tiempo total de vuelo: 223\n",
      "    Combustible total: 400000\n"
     ]
    }
   ],
   "source": [
    "#Considera hora de prelanzamiento, tiempo de vuelo, destino, tanque externo y tanque interno\n",
    "def informe(hrPrelanzamiento, fltime, destino, tanexterno, taninterno):\n",
    "    return f\"\"\" Destino: {destino}\n",
    "    Tiempo total de vuelo: {hrPrelanzamiento+fltime}\n",
    "    Combustible total: {tanexterno+taninterno}\"\"\"\n",
    "\n",
    "print(informe(23, 200, \"Jupiter\", 280000, 120000))"
   ]
  },
  {
   "cell_type": "code",
   "execution_count": 41,
   "metadata": {},
   "outputs": [
    {
     "name": "stdout",
     "output_type": "stream",
     "text": [
      " Destino: Jupiter\n",
      "    Tiempo total de vuelo: 83\n",
      "    Combustible total: 40000\n"
     ]
    }
   ],
   "source": [
    "#Considera hora de prelanzamiento, tiempo de vuelo, destino, tanque externo y tanque interno\n",
    "def informe(destin, *minutes, **fuel_reservoirs):\n",
    "    return f\"\"\" Destino: {destin}\n",
    "    Tiempo total de vuelo: {sum(minutes)}\n",
    "    Combustible total: {sum(fuel_reservoirs.values())}\"\"\"\n",
    "\n",
    "print(informe( \"Jupiter\", 23, 40, 20, ext=28000, inter=12000))"
   ]
  },
  {
   "cell_type": "code",
   "execution_count": 42,
   "metadata": {},
   "outputs": [
    {
     "name": "stdout",
     "output_type": "stream",
     "text": [
      "\n",
      "    Mission to Moon\n",
      "    Total travel time: 74 minutes\n",
      "    Total fuel left: 500000\n",
      "    main tank --> 300000 gallons left\n",
      "external tank --> 200000 gallons left\n",
      "\n"
     ]
    }
   ],
   "source": [
    "#Esta tercera no le entendí muy bien\n",
    "\n",
    "def mission_report(destination, *minutes, **fuel_reservoirs):\n",
    "    main_report = f\"\"\"\n",
    "    Mission to {destination}\n",
    "    Total travel time: {sum(minutes)} minutes\n",
    "    Total fuel left: {sum(fuel_reservoirs.values())}\n",
    "    \"\"\"\n",
    "    for tank_name, gallons in fuel_reservoirs.items():\n",
    "        main_report += f\"{tank_name} tank --> {gallons} gallons left\\n\"\n",
    "    return main_report\n",
    "\n",
    "print(mission_report(\"Moon\", 8, 11, 55, main=300000, external=200000))"
   ]
  }
 ],
 "metadata": {
  "interpreter": {
   "hash": "29d8c59fee9a0309007acc0b12fd78547b1a17caf93b3591f55ca1536f38417f"
  },
  "kernelspec": {
   "display_name": "Python 3.10.2 64-bit",
   "language": "python",
   "name": "python3"
  },
  "language_info": {
   "codemirror_mode": {
    "name": "ipython",
    "version": 3
   },
   "file_extension": ".py",
   "mimetype": "text/x-python",
   "name": "python",
   "nbconvert_exporter": "python",
   "pygments_lexer": "ipython3",
   "version": "3.10.2"
  },
  "orig_nbformat": 4
 },
 "nbformat": 4,
 "nbformat_minor": 2
}
